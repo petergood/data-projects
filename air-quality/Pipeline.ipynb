{
 "cells": [
  {
   "cell_type": "code",
   "execution_count": 88,
   "metadata": {},
   "outputs": [],
   "source": [
    "%matplotlib inline"
   ]
  },
  {
   "cell_type": "code",
   "execution_count": 89,
   "metadata": {},
   "outputs": [],
   "source": [
    "import pandas as pd\n",
    "import numpy as np"
   ]
  },
  {
   "cell_type": "markdown",
   "metadata": {},
   "source": [
    "## Loading the dataset"
   ]
  },
  {
   "cell_type": "code",
   "execution_count": 90,
   "metadata": {},
   "outputs": [],
   "source": [
    "air_data = pd.read_csv(\"datasets/AirQualityUCI.csv\", sep=\";\")"
   ]
  },
  {
   "cell_type": "code",
   "execution_count": 91,
   "metadata": {},
   "outputs": [],
   "source": [
    "air_data.drop([\"Unnamed: 15\", \"Unnamed: 16\"], axis=1, inplace=True)"
   ]
  },
  {
   "cell_type": "code",
   "execution_count": 92,
   "metadata": {},
   "outputs": [],
   "source": [
    "air_data.dropna(axis=0, inplace=True)"
   ]
  },
  {
   "cell_type": "code",
   "execution_count": 93,
   "metadata": {},
   "outputs": [],
   "source": [
    "def string_to_float(row):\n",
    "    for index, value in row.iteritems():\n",
    "        if (index != \"index\" and index != \"Date\" and index != \"Time\" and not type(value) is float):\n",
    "            row[index] = float(value.replace(\",\", \".\"))\n",
    "    \n",
    "    return row\n",
    "    \n",
    "air_data = air_data.apply(string_to_float, axis=1)"
   ]
  },
  {
   "cell_type": "code",
   "execution_count": 94,
   "metadata": {},
   "outputs": [],
   "source": [
    "air_data[\"no2_cat\"] = np.ceil(air_data[\"NO2(GT)\"] / 100)"
   ]
  },
  {
   "cell_type": "code",
   "execution_count": 95,
   "metadata": {},
   "outputs": [
    {
     "data": {
      "text/plain": [
       " 2.0    4015\n",
       " 1.0    3314\n",
       "-2.0    1642\n",
       " 3.0     377\n",
       " 4.0       9\n",
       "Name: no2_cat, dtype: int64"
      ]
     },
     "execution_count": 95,
     "metadata": {},
     "output_type": "execute_result"
    }
   ],
   "source": [
    "air_data[\"no2_cat\"].value_counts()"
   ]
  },
  {
   "cell_type": "code",
   "execution_count": 96,
   "metadata": {},
   "outputs": [],
   "source": [
    "from sklearn.model_selection import StratifiedShuffleSplit"
   ]
  },
  {
   "cell_type": "code",
   "execution_count": 97,
   "metadata": {},
   "outputs": [],
   "source": [
    "shuffle_splitter = StratifiedShuffleSplit(n_splits=1, test_size=0.2, random_state=107)\n",
    "\n",
    "train_set = None\n",
    "test_set = None\n",
    "\n",
    "for train_indexes, test_indexes in shuffle_splitter.split(air_data, air_data[\"no2_cat\"]):\n",
    "    train_set = air_data.loc[train_indexes]\n",
    "    test_set = air_data.loc[test_indexes]"
   ]
  },
  {
   "cell_type": "code",
   "execution_count": 98,
   "metadata": {},
   "outputs": [],
   "source": [
    "train_set.drop([\"no2_cat\", \"Date\"], axis=1, inplace=True)"
   ]
  },
  {
   "cell_type": "code",
   "execution_count": 99,
   "metadata": {},
   "outputs": [
    {
     "data": {
      "text/html": [
       "<div>\n",
       "<style scoped>\n",
       "    .dataframe tbody tr th:only-of-type {\n",
       "        vertical-align: middle;\n",
       "    }\n",
       "\n",
       "    .dataframe tbody tr th {\n",
       "        vertical-align: top;\n",
       "    }\n",
       "\n",
       "    .dataframe thead th {\n",
       "        text-align: right;\n",
       "    }\n",
       "</style>\n",
       "<table border=\"1\" class=\"dataframe\">\n",
       "  <thead>\n",
       "    <tr style=\"text-align: right;\">\n",
       "      <th></th>\n",
       "      <th>Time</th>\n",
       "      <th>CO(GT)</th>\n",
       "      <th>PT08.S1(CO)</th>\n",
       "      <th>NMHC(GT)</th>\n",
       "      <th>C6H6(GT)</th>\n",
       "      <th>PT08.S2(NMHC)</th>\n",
       "      <th>NOx(GT)</th>\n",
       "      <th>PT08.S3(NOx)</th>\n",
       "      <th>NO2(GT)</th>\n",
       "      <th>PT08.S4(NO2)</th>\n",
       "      <th>PT08.S5(O3)</th>\n",
       "      <th>T</th>\n",
       "      <th>RH</th>\n",
       "      <th>AH</th>\n",
       "    </tr>\n",
       "  </thead>\n",
       "  <tbody>\n",
       "    <tr>\n",
       "      <th>4186</th>\n",
       "      <td>04.00.00</td>\n",
       "      <td>0.5</td>\n",
       "      <td>838.0</td>\n",
       "      <td>-200.0</td>\n",
       "      <td>2.8</td>\n",
       "      <td>639.0</td>\n",
       "      <td>72.0</td>\n",
       "      <td>963.0</td>\n",
       "      <td>48.0</td>\n",
       "      <td>1391.0</td>\n",
       "      <td>596.0</td>\n",
       "      <td>20.8</td>\n",
       "      <td>64.9</td>\n",
       "      <td>1.5710</td>\n",
       "    </tr>\n",
       "    <tr>\n",
       "      <th>8467</th>\n",
       "      <td>13.00.00</td>\n",
       "      <td>2.8</td>\n",
       "      <td>971.0</td>\n",
       "      <td>-200.0</td>\n",
       "      <td>4.5</td>\n",
       "      <td>739.0</td>\n",
       "      <td>181.0</td>\n",
       "      <td>868.0</td>\n",
       "      <td>117.0</td>\n",
       "      <td>972.0</td>\n",
       "      <td>664.0</td>\n",
       "      <td>9.9</td>\n",
       "      <td>43.5</td>\n",
       "      <td>0.5300</td>\n",
       "    </tr>\n",
       "    <tr>\n",
       "      <th>8587</th>\n",
       "      <td>13.00.00</td>\n",
       "      <td>1.4</td>\n",
       "      <td>1092.0</td>\n",
       "      <td>-200.0</td>\n",
       "      <td>4.9</td>\n",
       "      <td>759.0</td>\n",
       "      <td>268.0</td>\n",
       "      <td>773.0</td>\n",
       "      <td>150.0</td>\n",
       "      <td>1088.0</td>\n",
       "      <td>1039.0</td>\n",
       "      <td>5.3</td>\n",
       "      <td>69.2</td>\n",
       "      <td>0.6213</td>\n",
       "    </tr>\n",
       "    <tr>\n",
       "      <th>5992</th>\n",
       "      <td>10.00.00</td>\n",
       "      <td>1.8</td>\n",
       "      <td>883.0</td>\n",
       "      <td>-200.0</td>\n",
       "      <td>6.8</td>\n",
       "      <td>849.0</td>\n",
       "      <td>361.0</td>\n",
       "      <td>910.0</td>\n",
       "      <td>141.0</td>\n",
       "      <td>1053.0</td>\n",
       "      <td>843.0</td>\n",
       "      <td>12.6</td>\n",
       "      <td>36.6</td>\n",
       "      <td>0.5314</td>\n",
       "    </tr>\n",
       "    <tr>\n",
       "      <th>3459</th>\n",
       "      <td>21.00.00</td>\n",
       "      <td>1.7</td>\n",
       "      <td>1093.0</td>\n",
       "      <td>-200.0</td>\n",
       "      <td>9.1</td>\n",
       "      <td>944.0</td>\n",
       "      <td>71.0</td>\n",
       "      <td>711.0</td>\n",
       "      <td>85.0</td>\n",
       "      <td>1655.0</td>\n",
       "      <td>785.0</td>\n",
       "      <td>29.5</td>\n",
       "      <td>42.7</td>\n",
       "      <td>1.7316</td>\n",
       "    </tr>\n",
       "    <tr>\n",
       "      <th>5031</th>\n",
       "      <td>09.00.00</td>\n",
       "      <td>-200.0</td>\n",
       "      <td>1528.0</td>\n",
       "      <td>-200.0</td>\n",
       "      <td>25.8</td>\n",
       "      <td>1449.0</td>\n",
       "      <td>-200.0</td>\n",
       "      <td>473.0</td>\n",
       "      <td>-200.0</td>\n",
       "      <td>2039.0</td>\n",
       "      <td>1756.0</td>\n",
       "      <td>20.4</td>\n",
       "      <td>61.2</td>\n",
       "      <td>1.4470</td>\n",
       "    </tr>\n",
       "    <tr>\n",
       "      <th>7601</th>\n",
       "      <td>11.00.00</td>\n",
       "      <td>4.2</td>\n",
       "      <td>1440.0</td>\n",
       "      <td>-200.0</td>\n",
       "      <td>20.5</td>\n",
       "      <td>1311.0</td>\n",
       "      <td>815.0</td>\n",
       "      <td>482.0</td>\n",
       "      <td>183.0</td>\n",
       "      <td>1476.0</td>\n",
       "      <td>2022.0</td>\n",
       "      <td>9.3</td>\n",
       "      <td>54.5</td>\n",
       "      <td>0.6415</td>\n",
       "    </tr>\n",
       "    <tr>\n",
       "      <th>9208</th>\n",
       "      <td>10.00.00</td>\n",
       "      <td>3.3</td>\n",
       "      <td>1303.0</td>\n",
       "      <td>-200.0</td>\n",
       "      <td>14.4</td>\n",
       "      <td>1128.0</td>\n",
       "      <td>460.0</td>\n",
       "      <td>489.0</td>\n",
       "      <td>152.0</td>\n",
       "      <td>1573.0</td>\n",
       "      <td>1541.0</td>\n",
       "      <td>17.7</td>\n",
       "      <td>55.6</td>\n",
       "      <td>1.1120</td>\n",
       "    </tr>\n",
       "    <tr>\n",
       "      <th>2211</th>\n",
       "      <td>21.00.00</td>\n",
       "      <td>2.4</td>\n",
       "      <td>1056.0</td>\n",
       "      <td>-200.0</td>\n",
       "      <td>12.0</td>\n",
       "      <td>1051.0</td>\n",
       "      <td>163.0</td>\n",
       "      <td>826.0</td>\n",
       "      <td>116.0</td>\n",
       "      <td>1758.0</td>\n",
       "      <td>1078.0</td>\n",
       "      <td>27.5</td>\n",
       "      <td>32.6</td>\n",
       "      <td>1.1760</td>\n",
       "    </tr>\n",
       "    <tr>\n",
       "      <th>2481</th>\n",
       "      <td>03.00.00</td>\n",
       "      <td>0.2</td>\n",
       "      <td>735.0</td>\n",
       "      <td>-200.0</td>\n",
       "      <td>1.4</td>\n",
       "      <td>533.0</td>\n",
       "      <td>-200.0</td>\n",
       "      <td>1338.0</td>\n",
       "      <td>-200.0</td>\n",
       "      <td>1350.0</td>\n",
       "      <td>493.0</td>\n",
       "      <td>21.0</td>\n",
       "      <td>47.5</td>\n",
       "      <td>1.1666</td>\n",
       "    </tr>\n",
       "  </tbody>\n",
       "</table>\n",
       "</div>"
      ],
      "text/plain": [
       "          Time  CO(GT)  PT08.S1(CO)  NMHC(GT)  C6H6(GT)  PT08.S2(NMHC)  \\\n",
       "4186  04.00.00     0.5        838.0    -200.0       2.8          639.0   \n",
       "8467  13.00.00     2.8        971.0    -200.0       4.5          739.0   \n",
       "8587  13.00.00     1.4       1092.0    -200.0       4.9          759.0   \n",
       "5992  10.00.00     1.8        883.0    -200.0       6.8          849.0   \n",
       "3459  21.00.00     1.7       1093.0    -200.0       9.1          944.0   \n",
       "5031  09.00.00  -200.0       1528.0    -200.0      25.8         1449.0   \n",
       "7601  11.00.00     4.2       1440.0    -200.0      20.5         1311.0   \n",
       "9208  10.00.00     3.3       1303.0    -200.0      14.4         1128.0   \n",
       "2211  21.00.00     2.4       1056.0    -200.0      12.0         1051.0   \n",
       "2481  03.00.00     0.2        735.0    -200.0       1.4          533.0   \n",
       "\n",
       "      NOx(GT)  PT08.S3(NOx)  NO2(GT)  PT08.S4(NO2)  PT08.S5(O3)     T    RH  \\\n",
       "4186     72.0         963.0     48.0        1391.0        596.0  20.8  64.9   \n",
       "8467    181.0         868.0    117.0         972.0        664.0   9.9  43.5   \n",
       "8587    268.0         773.0    150.0        1088.0       1039.0   5.3  69.2   \n",
       "5992    361.0         910.0    141.0        1053.0        843.0  12.6  36.6   \n",
       "3459     71.0         711.0     85.0        1655.0        785.0  29.5  42.7   \n",
       "5031   -200.0         473.0   -200.0        2039.0       1756.0  20.4  61.2   \n",
       "7601    815.0         482.0    183.0        1476.0       2022.0   9.3  54.5   \n",
       "9208    460.0         489.0    152.0        1573.0       1541.0  17.7  55.6   \n",
       "2211    163.0         826.0    116.0        1758.0       1078.0  27.5  32.6   \n",
       "2481   -200.0        1338.0   -200.0        1350.0        493.0  21.0  47.5   \n",
       "\n",
       "          AH  \n",
       "4186  1.5710  \n",
       "8467  0.5300  \n",
       "8587  0.6213  \n",
       "5992  0.5314  \n",
       "3459  1.7316  \n",
       "5031  1.4470  \n",
       "7601  0.6415  \n",
       "9208  1.1120  \n",
       "2211  1.1760  \n",
       "2481  1.1666  "
      ]
     },
     "execution_count": 99,
     "metadata": {},
     "output_type": "execute_result"
    }
   ],
   "source": [
    "train_set.head(n=10)"
   ]
  },
  {
   "cell_type": "markdown",
   "metadata": {},
   "source": [
    "## Pipelines"
   ]
  },
  {
   "cell_type": "code",
   "execution_count": 100,
   "metadata": {},
   "outputs": [],
   "source": [
    "from sklearn.pipeline import Pipeline\n",
    "from sklearn.base import TransformerMixin, BaseEstimator\n",
    "from sklearn.impute import SimpleImputer\n",
    "from sklearn.preprocessing import StandardScaler"
   ]
  },
  {
   "cell_type": "code",
   "execution_count": 101,
   "metadata": {},
   "outputs": [],
   "source": [
    "class DataFrameColumnSelector(TransformerMixin, BaseEstimator):\n",
    "    def __init__(self, columns):\n",
    "        self.columns = columns\n",
    "        \n",
    "    def fit(self, X, y=None):\n",
    "        return self\n",
    "    \n",
    "    def transform(self, X):\n",
    "        return X[self.columns].values"
   ]
  },
  {
   "cell_type": "code",
   "execution_count": 134,
   "metadata": {},
   "outputs": [],
   "source": [
    "class RowCleaner():\n",
    "    def __init__(self, column_actions):\n",
    "        self.column_actions = column_actions # (index, illegal_value)\n",
    "    \n",
    "    def transform(self, X, y):\n",
    "        transformed_x = []\n",
    "        transformed_y = []\n",
    "        \n",
    "        for row_and_feature in zip(X, y):\n",
    "            add = True\n",
    "            for column_action in self.column_actions:\n",
    "                if (row_and_feature[0][column_action[0]] == column_action[1]):\n",
    "                    add = False\n",
    "                    \n",
    "            if add:\n",
    "                transformed_x.append(row_and_feature[0])\n",
    "                transformed_y.append(row_and_feature[1])\n",
    "        \n",
    "        return transformed_x, transformed_y"
   ]
  },
  {
   "cell_type": "code",
   "execution_count": 127,
   "metadata": {},
   "outputs": [],
   "source": [
    "pipeline = Pipeline([\n",
    "    (\"column_selection\", DataFrameColumnSelector(train_set.drop([\"Time\", \"CO(GT)\"], axis=1).columns.values)),\n",
    "    #(\"impute\", SimpleImputer(missing_values=-200, strategy=\"mean\")),\n",
    "    (\"scale\", StandardScaler())\n",
    "])"
   ]
  },
  {
   "cell_type": "code",
   "execution_count": 132,
   "metadata": {},
   "outputs": [
    {
     "data": {
      "text/plain": [
       "array([[-0.6401682 , -0.290162  ,  0.02248666, ...,  0.25496909,\n",
       "         0.49462197,  0.21607945],\n",
       "       [-0.23722391, -0.290162  ,  0.06348147, ...,  0.00314889,\n",
       "         0.07759249,  0.18942349],\n",
       "       [ 0.1293645 , -0.290162  ,  0.07312731, ..., -0.10312385,\n",
       "         0.57841761,  0.19176133],\n",
       "       ...,\n",
       "       [ 0.15663141, -0.290162  ,  0.26845554, ...,  0.10711136,\n",
       "        -0.2205641 ,  0.18761314],\n",
       "       [-0.55533782, -0.290162  ,  0.07553877, ...,  0.12559357,\n",
       "        -0.405694  ,  0.18408206],\n",
       "       [ 0.62622814, -0.290162  ,  0.47584107, ...,  0.40051654,\n",
       "        -0.01204936,  0.21108114]])"
      ]
     },
     "execution_count": 132,
     "metadata": {},
     "output_type": "execute_result"
    }
   ],
   "source": [
    "train_set_prepared = pipeline.fit_transform(train_set)\n",
    "train_set_labels = train_set[\"CO(GT)\"]"
   ]
  },
  {
   "cell_type": "markdown",
   "metadata": {},
   "source": [
    "## Linear regression model"
   ]
  },
  {
   "cell_type": "code",
   "execution_count": 129,
   "metadata": {},
   "outputs": [],
   "source": [
    "from sklearn.linear_model import LinearRegression\n",
    "from sklearn.model_selection import cross_val_score"
   ]
  },
  {
   "cell_type": "code",
   "execution_count": 130,
   "metadata": {},
   "outputs": [],
   "source": [
    "regression_scores = cross_val_score(LinearRegression(), train_set_prepared, train_set_labels,\n",
    "                                scoring=\"neg_mean_squared_error\", cv=10)\n",
    "\n",
    "regression_scores_rmse = np.sqrt(-regression_scores)"
   ]
  },
  {
   "cell_type": "code",
   "execution_count": 131,
   "metadata": {},
   "outputs": [
    {
     "name": "stdout",
     "output_type": "stream",
     "text": [
      "[60.95694183 60.87529715 56.52156733 59.40913352 54.81369197 54.3357327\n",
      " 54.95957143 56.05698351 53.64710392 55.91521934]\n",
      "56.7491242715574\n"
     ]
    }
   ],
   "source": [
    "print(regression_scores_rmse)\n",
    "print(regression_scores_rmse.mean())"
   ]
  },
  {
   "cell_type": "code",
   "execution_count": null,
   "metadata": {},
   "outputs": [],
   "source": []
  }
 ],
 "metadata": {
  "kernelspec": {
   "display_name": "Python 3",
   "language": "python",
   "name": "python3"
  },
  "language_info": {
   "codemirror_mode": {
    "name": "ipython",
    "version": 3
   },
   "file_extension": ".py",
   "mimetype": "text/x-python",
   "name": "python",
   "nbconvert_exporter": "python",
   "pygments_lexer": "ipython3",
   "version": "3.7.1"
  }
 },
 "nbformat": 4,
 "nbformat_minor": 2
}
