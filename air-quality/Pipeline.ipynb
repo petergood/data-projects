{
 "cells": [
  {
   "cell_type": "code",
   "execution_count": 143,
   "metadata": {},
   "outputs": [],
   "source": [
    "%matplotlib inline"
   ]
  },
  {
   "cell_type": "code",
   "execution_count": 186,
   "metadata": {},
   "outputs": [],
   "source": [
    "import pandas as pd\n",
    "import numpy as np"
   ]
  },
  {
   "cell_type": "markdown",
   "metadata": {},
   "source": [
    "## Loading the dataset"
   ]
  },
  {
   "cell_type": "code",
   "execution_count": 187,
   "metadata": {},
   "outputs": [],
   "source": [
    "air_data = pd.read_csv(\"datasets/AirQualityUCI.csv\", sep=\";\")"
   ]
  },
  {
   "cell_type": "code",
   "execution_count": 188,
   "metadata": {},
   "outputs": [],
   "source": [
    "air_data.drop([\"Unnamed: 15\", \"Unnamed: 16\"], axis=1, inplace=True)"
   ]
  },
  {
   "cell_type": "code",
   "execution_count": 189,
   "metadata": {},
   "outputs": [],
   "source": [
    "air_data.dropna(axis=0, inplace=True)"
   ]
  },
  {
   "cell_type": "code",
   "execution_count": 190,
   "metadata": {},
   "outputs": [],
   "source": [
    "def string_to_float(row):\n",
    "    for index, value in row.iteritems():\n",
    "        if (index != \"index\" and index != \"Date\" and index != \"Time\" and not type(value) is float):\n",
    "            row[index] = float(value.replace(\",\", \".\"))\n",
    "    \n",
    "    return row\n",
    "    \n",
    "air_data = air_data.apply(string_to_float, axis=1)"
   ]
  },
  {
   "cell_type": "code",
   "execution_count": 191,
   "metadata": {},
   "outputs": [],
   "source": [
    "air_data[\"no2_cat\"] = np.ceil(air_data[\"NO2(GT)\"] / 100)"
   ]
  },
  {
   "cell_type": "code",
   "execution_count": 192,
   "metadata": {},
   "outputs": [
    {
     "data": {
      "text/plain": [
       " 2.0    4015\n",
       " 1.0    3314\n",
       "-2.0    1642\n",
       " 3.0     377\n",
       " 4.0       9\n",
       "Name: no2_cat, dtype: int64"
      ]
     },
     "execution_count": 192,
     "metadata": {},
     "output_type": "execute_result"
    }
   ],
   "source": [
    "air_data[\"no2_cat\"].value_counts()"
   ]
  },
  {
   "cell_type": "code",
   "execution_count": 193,
   "metadata": {},
   "outputs": [],
   "source": [
    "from sklearn.model_selection import StratifiedShuffleSplit"
   ]
  },
  {
   "cell_type": "code",
   "execution_count": 194,
   "metadata": {},
   "outputs": [],
   "source": [
    "shuffle_splitter = StratifiedShuffleSplit(n_splits=1, test_size=0.2, random_state=107)\n",
    "\n",
    "train_set = None\n",
    "test_set = None\n",
    "\n",
    "for train_indexes, test_indexes in shuffle_splitter.split(air_data, air_data[\"no2_cat\"]):\n",
    "    train_set = air_data.loc[train_indexes]\n",
    "    test_set = air_data.loc[test_indexes]"
   ]
  },
  {
   "cell_type": "code",
   "execution_count": 195,
   "metadata": {},
   "outputs": [],
   "source": [
    "train_set.drop([\"no2_cat\", \"Date\"], axis=1, inplace=True)"
   ]
  },
  {
   "cell_type": "code",
   "execution_count": 196,
   "metadata": {},
   "outputs": [
    {
     "data": {
      "text/html": [
       "<div>\n",
       "<style scoped>\n",
       "    .dataframe tbody tr th:only-of-type {\n",
       "        vertical-align: middle;\n",
       "    }\n",
       "\n",
       "    .dataframe tbody tr th {\n",
       "        vertical-align: top;\n",
       "    }\n",
       "\n",
       "    .dataframe thead th {\n",
       "        text-align: right;\n",
       "    }\n",
       "</style>\n",
       "<table border=\"1\" class=\"dataframe\">\n",
       "  <thead>\n",
       "    <tr style=\"text-align: right;\">\n",
       "      <th></th>\n",
       "      <th>Time</th>\n",
       "      <th>CO(GT)</th>\n",
       "      <th>PT08.S1(CO)</th>\n",
       "      <th>NMHC(GT)</th>\n",
       "      <th>C6H6(GT)</th>\n",
       "      <th>PT08.S2(NMHC)</th>\n",
       "      <th>NOx(GT)</th>\n",
       "      <th>PT08.S3(NOx)</th>\n",
       "      <th>NO2(GT)</th>\n",
       "      <th>PT08.S4(NO2)</th>\n",
       "      <th>PT08.S5(O3)</th>\n",
       "      <th>T</th>\n",
       "      <th>RH</th>\n",
       "      <th>AH</th>\n",
       "    </tr>\n",
       "  </thead>\n",
       "  <tbody>\n",
       "    <tr>\n",
       "      <th>4186</th>\n",
       "      <td>04.00.00</td>\n",
       "      <td>0.5</td>\n",
       "      <td>838.0</td>\n",
       "      <td>-200.0</td>\n",
       "      <td>2.8</td>\n",
       "      <td>639.0</td>\n",
       "      <td>72.0</td>\n",
       "      <td>963.0</td>\n",
       "      <td>48.0</td>\n",
       "      <td>1391.0</td>\n",
       "      <td>596.0</td>\n",
       "      <td>20.8</td>\n",
       "      <td>64.9</td>\n",
       "      <td>1.5710</td>\n",
       "    </tr>\n",
       "    <tr>\n",
       "      <th>8467</th>\n",
       "      <td>13.00.00</td>\n",
       "      <td>2.8</td>\n",
       "      <td>971.0</td>\n",
       "      <td>-200.0</td>\n",
       "      <td>4.5</td>\n",
       "      <td>739.0</td>\n",
       "      <td>181.0</td>\n",
       "      <td>868.0</td>\n",
       "      <td>117.0</td>\n",
       "      <td>972.0</td>\n",
       "      <td>664.0</td>\n",
       "      <td>9.9</td>\n",
       "      <td>43.5</td>\n",
       "      <td>0.5300</td>\n",
       "    </tr>\n",
       "    <tr>\n",
       "      <th>8587</th>\n",
       "      <td>13.00.00</td>\n",
       "      <td>1.4</td>\n",
       "      <td>1092.0</td>\n",
       "      <td>-200.0</td>\n",
       "      <td>4.9</td>\n",
       "      <td>759.0</td>\n",
       "      <td>268.0</td>\n",
       "      <td>773.0</td>\n",
       "      <td>150.0</td>\n",
       "      <td>1088.0</td>\n",
       "      <td>1039.0</td>\n",
       "      <td>5.3</td>\n",
       "      <td>69.2</td>\n",
       "      <td>0.6213</td>\n",
       "    </tr>\n",
       "    <tr>\n",
       "      <th>5992</th>\n",
       "      <td>10.00.00</td>\n",
       "      <td>1.8</td>\n",
       "      <td>883.0</td>\n",
       "      <td>-200.0</td>\n",
       "      <td>6.8</td>\n",
       "      <td>849.0</td>\n",
       "      <td>361.0</td>\n",
       "      <td>910.0</td>\n",
       "      <td>141.0</td>\n",
       "      <td>1053.0</td>\n",
       "      <td>843.0</td>\n",
       "      <td>12.6</td>\n",
       "      <td>36.6</td>\n",
       "      <td>0.5314</td>\n",
       "    </tr>\n",
       "    <tr>\n",
       "      <th>3459</th>\n",
       "      <td>21.00.00</td>\n",
       "      <td>1.7</td>\n",
       "      <td>1093.0</td>\n",
       "      <td>-200.0</td>\n",
       "      <td>9.1</td>\n",
       "      <td>944.0</td>\n",
       "      <td>71.0</td>\n",
       "      <td>711.0</td>\n",
       "      <td>85.0</td>\n",
       "      <td>1655.0</td>\n",
       "      <td>785.0</td>\n",
       "      <td>29.5</td>\n",
       "      <td>42.7</td>\n",
       "      <td>1.7316</td>\n",
       "    </tr>\n",
       "  </tbody>\n",
       "</table>\n",
       "</div>"
      ],
      "text/plain": [
       "          Time  CO(GT)  PT08.S1(CO)  NMHC(GT)  C6H6(GT)  PT08.S2(NMHC)  \\\n",
       "4186  04.00.00     0.5        838.0    -200.0       2.8          639.0   \n",
       "8467  13.00.00     2.8        971.0    -200.0       4.5          739.0   \n",
       "8587  13.00.00     1.4       1092.0    -200.0       4.9          759.0   \n",
       "5992  10.00.00     1.8        883.0    -200.0       6.8          849.0   \n",
       "3459  21.00.00     1.7       1093.0    -200.0       9.1          944.0   \n",
       "\n",
       "      NOx(GT)  PT08.S3(NOx)  NO2(GT)  PT08.S4(NO2)  PT08.S5(O3)     T    RH  \\\n",
       "4186     72.0         963.0     48.0        1391.0        596.0  20.8  64.9   \n",
       "8467    181.0         868.0    117.0         972.0        664.0   9.9  43.5   \n",
       "8587    268.0         773.0    150.0        1088.0       1039.0   5.3  69.2   \n",
       "5992    361.0         910.0    141.0        1053.0        843.0  12.6  36.6   \n",
       "3459     71.0         711.0     85.0        1655.0        785.0  29.5  42.7   \n",
       "\n",
       "          AH  \n",
       "4186  1.5710  \n",
       "8467  0.5300  \n",
       "8587  0.6213  \n",
       "5992  0.5314  \n",
       "3459  1.7316  "
      ]
     },
     "execution_count": 196,
     "metadata": {},
     "output_type": "execute_result"
    }
   ],
   "source": [
    "train_set.head()"
   ]
  },
  {
   "cell_type": "markdown",
   "metadata": {},
   "source": [
    "## Pipelines"
   ]
  },
  {
   "cell_type": "code",
   "execution_count": 197,
   "metadata": {},
   "outputs": [],
   "source": [
    "from sklearn.pipeline import Pipeline\n",
    "from sklearn.base import TransformerMixin, BaseEstimator\n",
    "from sklearn.impute import SimpleImputer\n",
    "from sklearn.preprocessing import StandardScaler"
   ]
  },
  {
   "cell_type": "code",
   "execution_count": 198,
   "metadata": {},
   "outputs": [],
   "source": [
    "class DataFrameColumnSelector(TransformerMixin, BaseEstimator):\n",
    "    def __init__(self, columns):\n",
    "        self.columns = columns\n",
    "        \n",
    "    def fit(self, X, y=None):\n",
    "        return self\n",
    "    \n",
    "    def transform(self, X, y=None):\n",
    "        return X[self.columns].values"
   ]
  },
  {
   "cell_type": "code",
   "execution_count": 199,
   "metadata": {},
   "outputs": [],
   "source": [
    "pipeline = Pipeline([\n",
    "    (\"column_selection\", DataFrameColumnSelector(train_set.drop([\"Time\", \"CO(GT)\"], axis=1).columns.values)),\n",
    "    (\"impute\", SimpleImputer(missing_values=-200, strategy=\"mean\")),\n",
    "    (\"scale\", StandardScaler())\n",
    "])"
   ]
  },
  {
   "cell_type": "code",
   "execution_count": 200,
   "metadata": {},
   "outputs": [],
   "source": [
    "train_set_prepared = pipeline.fit_transform(train_set)\n",
    "train_set_labels = train_set[\"CO(GT)\"]"
   ]
  },
  {
   "cell_type": "markdown",
   "metadata": {},
   "source": [
    "## Linear regression model"
   ]
  },
  {
   "cell_type": "code",
   "execution_count": 201,
   "metadata": {},
   "outputs": [],
   "source": [
    "from sklearn.linear_model import LinearRegression\n",
    "from sklearn.model_selection import cross_val_score"
   ]
  },
  {
   "cell_type": "code",
   "execution_count": 202,
   "metadata": {},
   "outputs": [],
   "source": [
    "regression_scores = cross_val_score(LinearRegression(), train_set_prepared, train_set_labels,\n",
    "                                scoring=\"neg_mean_squared_error\", cv=10)\n",
    "\n",
    "regression_scores_rmse = np.sqrt(-regression_scores)"
   ]
  },
  {
   "cell_type": "code",
   "execution_count": 203,
   "metadata": {},
   "outputs": [
    {
     "name": "stdout",
     "output_type": "stream",
     "text": [
      "[77.72951345 77.27828781 73.24256041 77.01563558 74.5084942  72.07126427\n",
      " 72.17726834 74.15665574 74.33981504 77.29270073]\n",
      "74.98121955811483\n"
     ]
    }
   ],
   "source": [
    "print(regression_scores_rmse)\n",
    "print(regression_scores_rmse.mean())"
   ]
  }
 ],
 "metadata": {
  "kernelspec": {
   "display_name": "Python 3",
   "language": "python",
   "name": "python3"
  },
  "language_info": {
   "codemirror_mode": {
    "name": "ipython",
    "version": 3
   },
   "file_extension": ".py",
   "mimetype": "text/x-python",
   "name": "python",
   "nbconvert_exporter": "python",
   "pygments_lexer": "ipython3",
   "version": "3.7.1"
  }
 },
 "nbformat": 4,
 "nbformat_minor": 2
}
